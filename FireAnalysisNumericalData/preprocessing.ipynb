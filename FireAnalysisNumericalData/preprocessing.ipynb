{
 "cells": [
  {
   "cell_type": "markdown",
   "metadata": {},
   "source": [
    "**Exploratory Data Analysis**"
   ]
  },
  {
   "cell_type": "code",
   "execution_count": 64,
   "metadata": {},
   "outputs": [],
   "source": [
    "import numpy as np\n",
    "import pandas as pd\n",
    "import matplotlib.pyplot as plt\n",
    "import plotly.express as px\n",
    "import seaborn as sns\n",
    "from sklearn.preprocessing import StandardScaler\n",
    "\n"
   ]
  },
  {
   "cell_type": "code",
   "execution_count": 65,
   "metadata": {},
   "outputs": [],
   "source": [
    "positives=pd.read_csv(\"positives.csv\")\n",
    "negatives=pd.read_csv(\"negatives.csv\")"
   ]
  },
  {
   "cell_type": "code",
   "execution_count": 66,
   "metadata": {},
   "outputs": [],
   "source": [
    "df = pd.concat([positives, negatives], ignore_index=True)"
   ]
  },
  {
   "cell_type": "code",
   "execution_count": 67,
   "metadata": {},
   "outputs": [
    {
     "data": {
      "text/html": [
       "<div>\n",
       "<style scoped>\n",
       "    .dataframe tbody tr th:only-of-type {\n",
       "        vertical-align: middle;\n",
       "    }\n",
       "\n",
       "    .dataframe tbody tr th {\n",
       "        vertical-align: top;\n",
       "    }\n",
       "\n",
       "    .dataframe thead th {\n",
       "        text-align: right;\n",
       "    }\n",
       "</style>\n",
       "<table border=\"1\" class=\"dataframe\">\n",
       "  <thead>\n",
       "    <tr style=\"text-align: right;\">\n",
       "      <th></th>\n",
       "      <th>time</th>\n",
       "      <th>aspect</th>\n",
       "      <th>burned_areas</th>\n",
       "      <th>curvature</th>\n",
       "      <th>d2m</th>\n",
       "      <th>dem</th>\n",
       "      <th>ignition_points</th>\n",
       "      <th>lai</th>\n",
       "      <th>lst_day</th>\n",
       "      <th>lst_night</th>\n",
       "      <th>...</th>\n",
       "      <th>lc_grassland</th>\n",
       "      <th>lc_settlement</th>\n",
       "      <th>lc_shrubland</th>\n",
       "      <th>lc_sparse_vegetation</th>\n",
       "      <th>lc_water_bodies</th>\n",
       "      <th>lc_wetland</th>\n",
       "      <th>population</th>\n",
       "      <th>burned_area_has</th>\n",
       "      <th>time_idx</th>\n",
       "      <th>sample</th>\n",
       "    </tr>\n",
       "  </thead>\n",
       "  <tbody>\n",
       "    <tr>\n",
       "      <th>0</th>\n",
       "      <td>2006-07-29</td>\n",
       "      <td>182.7782</td>\n",
       "      <td>0.0</td>\n",
       "      <td>-1469.6869</td>\n",
       "      <td>289.78036</td>\n",
       "      <td>142.89676</td>\n",
       "      <td>0.0</td>\n",
       "      <td>0.5</td>\n",
       "      <td>321.16000</td>\n",
       "      <td>295.52000</td>\n",
       "      <td>...</td>\n",
       "      <td>0.0</td>\n",
       "      <td>0.0</td>\n",
       "      <td>0.0</td>\n",
       "      <td>0.0</td>\n",
       "      <td>0.0</td>\n",
       "      <td>0.0</td>\n",
       "      <td>0.20321</td>\n",
       "      <td>40.0</td>\n",
       "      <td>0</td>\n",
       "      <td>0</td>\n",
       "    </tr>\n",
       "    <tr>\n",
       "      <th>1</th>\n",
       "      <td>2006-07-30</td>\n",
       "      <td>182.7782</td>\n",
       "      <td>0.0</td>\n",
       "      <td>-1469.6869</td>\n",
       "      <td>290.09662</td>\n",
       "      <td>142.89676</td>\n",
       "      <td>0.0</td>\n",
       "      <td>0.5</td>\n",
       "      <td>317.60000</td>\n",
       "      <td>293.63998</td>\n",
       "      <td>...</td>\n",
       "      <td>0.0</td>\n",
       "      <td>0.0</td>\n",
       "      <td>0.0</td>\n",
       "      <td>0.0</td>\n",
       "      <td>0.0</td>\n",
       "      <td>0.0</td>\n",
       "      <td>0.20321</td>\n",
       "      <td>40.0</td>\n",
       "      <td>1</td>\n",
       "      <td>0</td>\n",
       "    </tr>\n",
       "    <tr>\n",
       "      <th>2</th>\n",
       "      <td>2006-07-31</td>\n",
       "      <td>182.7782</td>\n",
       "      <td>0.0</td>\n",
       "      <td>-1469.6869</td>\n",
       "      <td>290.19055</td>\n",
       "      <td>142.89676</td>\n",
       "      <td>0.0</td>\n",
       "      <td>0.5</td>\n",
       "      <td>316.90000</td>\n",
       "      <td>293.00000</td>\n",
       "      <td>...</td>\n",
       "      <td>0.0</td>\n",
       "      <td>0.0</td>\n",
       "      <td>0.0</td>\n",
       "      <td>0.0</td>\n",
       "      <td>0.0</td>\n",
       "      <td>0.0</td>\n",
       "      <td>0.20321</td>\n",
       "      <td>40.0</td>\n",
       "      <td>2</td>\n",
       "      <td>0</td>\n",
       "    </tr>\n",
       "    <tr>\n",
       "      <th>3</th>\n",
       "      <td>2006-08-01</td>\n",
       "      <td>182.7782</td>\n",
       "      <td>0.0</td>\n",
       "      <td>-1469.6869</td>\n",
       "      <td>290.22266</td>\n",
       "      <td>142.89676</td>\n",
       "      <td>0.0</td>\n",
       "      <td>0.5</td>\n",
       "      <td>316.80000</td>\n",
       "      <td>294.66000</td>\n",
       "      <td>...</td>\n",
       "      <td>0.0</td>\n",
       "      <td>0.0</td>\n",
       "      <td>0.0</td>\n",
       "      <td>0.0</td>\n",
       "      <td>0.0</td>\n",
       "      <td>0.0</td>\n",
       "      <td>0.20321</td>\n",
       "      <td>40.0</td>\n",
       "      <td>3</td>\n",
       "      <td>0</td>\n",
       "    </tr>\n",
       "    <tr>\n",
       "      <th>4</th>\n",
       "      <td>2006-08-02</td>\n",
       "      <td>182.7782</td>\n",
       "      <td>0.0</td>\n",
       "      <td>-1469.6869</td>\n",
       "      <td>290.36680</td>\n",
       "      <td>142.89676</td>\n",
       "      <td>0.0</td>\n",
       "      <td>0.5</td>\n",
       "      <td>315.41998</td>\n",
       "      <td>295.91998</td>\n",
       "      <td>...</td>\n",
       "      <td>0.0</td>\n",
       "      <td>0.0</td>\n",
       "      <td>0.0</td>\n",
       "      <td>0.0</td>\n",
       "      <td>0.0</td>\n",
       "      <td>0.0</td>\n",
       "      <td>0.20321</td>\n",
       "      <td>40.0</td>\n",
       "      <td>4</td>\n",
       "      <td>0</td>\n",
       "    </tr>\n",
       "  </tbody>\n",
       "</table>\n",
       "<p>5 rows × 35 columns</p>\n",
       "</div>"
      ],
      "text/plain": [
       "         time    aspect  burned_areas  curvature        d2m        dem  \\\n",
       "0  2006-07-29  182.7782           0.0 -1469.6869  289.78036  142.89676   \n",
       "1  2006-07-30  182.7782           0.0 -1469.6869  290.09662  142.89676   \n",
       "2  2006-07-31  182.7782           0.0 -1469.6869  290.19055  142.89676   \n",
       "3  2006-08-01  182.7782           0.0 -1469.6869  290.22266  142.89676   \n",
       "4  2006-08-02  182.7782           0.0 -1469.6869  290.36680  142.89676   \n",
       "\n",
       "   ignition_points  lai    lst_day  lst_night  ...  lc_grassland  \\\n",
       "0              0.0  0.5  321.16000  295.52000  ...           0.0   \n",
       "1              0.0  0.5  317.60000  293.63998  ...           0.0   \n",
       "2              0.0  0.5  316.90000  293.00000  ...           0.0   \n",
       "3              0.0  0.5  316.80000  294.66000  ...           0.0   \n",
       "4              0.0  0.5  315.41998  295.91998  ...           0.0   \n",
       "\n",
       "   lc_settlement  lc_shrubland  lc_sparse_vegetation  lc_water_bodies  \\\n",
       "0            0.0           0.0                   0.0              0.0   \n",
       "1            0.0           0.0                   0.0              0.0   \n",
       "2            0.0           0.0                   0.0              0.0   \n",
       "3            0.0           0.0                   0.0              0.0   \n",
       "4            0.0           0.0                   0.0              0.0   \n",
       "\n",
       "   lc_wetland  population  burned_area_has  time_idx  sample  \n",
       "0         0.0     0.20321             40.0         0       0  \n",
       "1         0.0     0.20321             40.0         1       0  \n",
       "2         0.0     0.20321             40.0         2       0  \n",
       "3         0.0     0.20321             40.0         3       0  \n",
       "4         0.0     0.20321             40.0         4       0  \n",
       "\n",
       "[5 rows x 35 columns]"
      ]
     },
     "execution_count": 67,
     "metadata": {},
     "output_type": "execute_result"
    }
   ],
   "source": [
    "df.head()"
   ]
  },
  {
   "cell_type": "markdown",
   "metadata": {},
   "source": [
    "**Handling Nulls**"
   ]
  },
  {
   "cell_type": "code",
   "execution_count": 68,
   "metadata": {},
   "outputs": [
    {
     "data": {
      "application/vnd.plotly.v1+json": {
       "config": {
        "plotlyServerURL": "https://plot.ly"
       },
       "data": [
        {
         "hovertemplate": "Columns=%{x}<br>Percentage (%)=%{y}<extra></extra>",
         "legendgroup": "",
         "marker": {
          "color": "salmon",
          "pattern": {
           "shape": ""
          }
         },
         "name": "",
         "orientation": "v",
         "showlegend": false,
         "textposition": "auto",
         "type": "bar",
         "x": [
          "lst_night",
          "lst_day",
          "smi",
          "lai",
          "ndvi",
          "population"
         ],
         "xaxis": "x",
         "y": {
          "bdata": "zDHHHHMMQkCuFJbRUzQ/QP0ZF/60WihAxXwbHRYV+z+Zg9jNXy7LP2aLSOwcnH8/",
          "dtype": "f8"
         },
         "yaxis": "y"
        }
       ],
       "layout": {
        "bargap": 0.2,
        "barmode": "relative",
        "legend": {
         "tracegroupgap": 0
        },
        "template": {
         "data": {
          "bar": [
           {
            "error_x": {
             "color": "#2a3f5f"
            },
            "error_y": {
             "color": "#2a3f5f"
            },
            "marker": {
             "line": {
              "color": "white",
              "width": 0.5
             },
             "pattern": {
              "fillmode": "overlay",
              "size": 10,
              "solidity": 0.2
             }
            },
            "type": "bar"
           }
          ],
          "barpolar": [
           {
            "marker": {
             "line": {
              "color": "white",
              "width": 0.5
             },
             "pattern": {
              "fillmode": "overlay",
              "size": 10,
              "solidity": 0.2
             }
            },
            "type": "barpolar"
           }
          ],
          "carpet": [
           {
            "aaxis": {
             "endlinecolor": "#2a3f5f",
             "gridcolor": "#C8D4E3",
             "linecolor": "#C8D4E3",
             "minorgridcolor": "#C8D4E3",
             "startlinecolor": "#2a3f5f"
            },
            "baxis": {
             "endlinecolor": "#2a3f5f",
             "gridcolor": "#C8D4E3",
             "linecolor": "#C8D4E3",
             "minorgridcolor": "#C8D4E3",
             "startlinecolor": "#2a3f5f"
            },
            "type": "carpet"
           }
          ],
          "choropleth": [
           {
            "colorbar": {
             "outlinewidth": 0,
             "ticks": ""
            },
            "type": "choropleth"
           }
          ],
          "contour": [
           {
            "colorbar": {
             "outlinewidth": 0,
             "ticks": ""
            },
            "colorscale": [
             [
              0,
              "#0d0887"
             ],
             [
              0.1111111111111111,
              "#46039f"
             ],
             [
              0.2222222222222222,
              "#7201a8"
             ],
             [
              0.3333333333333333,
              "#9c179e"
             ],
             [
              0.4444444444444444,
              "#bd3786"
             ],
             [
              0.5555555555555556,
              "#d8576b"
             ],
             [
              0.6666666666666666,
              "#ed7953"
             ],
             [
              0.7777777777777778,
              "#fb9f3a"
             ],
             [
              0.8888888888888888,
              "#fdca26"
             ],
             [
              1,
              "#f0f921"
             ]
            ],
            "type": "contour"
           }
          ],
          "contourcarpet": [
           {
            "colorbar": {
             "outlinewidth": 0,
             "ticks": ""
            },
            "type": "contourcarpet"
           }
          ],
          "heatmap": [
           {
            "colorbar": {
             "outlinewidth": 0,
             "ticks": ""
            },
            "colorscale": [
             [
              0,
              "#0d0887"
             ],
             [
              0.1111111111111111,
              "#46039f"
             ],
             [
              0.2222222222222222,
              "#7201a8"
             ],
             [
              0.3333333333333333,
              "#9c179e"
             ],
             [
              0.4444444444444444,
              "#bd3786"
             ],
             [
              0.5555555555555556,
              "#d8576b"
             ],
             [
              0.6666666666666666,
              "#ed7953"
             ],
             [
              0.7777777777777778,
              "#fb9f3a"
             ],
             [
              0.8888888888888888,
              "#fdca26"
             ],
             [
              1,
              "#f0f921"
             ]
            ],
            "type": "heatmap"
           }
          ],
          "histogram": [
           {
            "marker": {
             "pattern": {
              "fillmode": "overlay",
              "size": 10,
              "solidity": 0.2
             }
            },
            "type": "histogram"
           }
          ],
          "histogram2d": [
           {
            "colorbar": {
             "outlinewidth": 0,
             "ticks": ""
            },
            "colorscale": [
             [
              0,
              "#0d0887"
             ],
             [
              0.1111111111111111,
              "#46039f"
             ],
             [
              0.2222222222222222,
              "#7201a8"
             ],
             [
              0.3333333333333333,
              "#9c179e"
             ],
             [
              0.4444444444444444,
              "#bd3786"
             ],
             [
              0.5555555555555556,
              "#d8576b"
             ],
             [
              0.6666666666666666,
              "#ed7953"
             ],
             [
              0.7777777777777778,
              "#fb9f3a"
             ],
             [
              0.8888888888888888,
              "#fdca26"
             ],
             [
              1,
              "#f0f921"
             ]
            ],
            "type": "histogram2d"
           }
          ],
          "histogram2dcontour": [
           {
            "colorbar": {
             "outlinewidth": 0,
             "ticks": ""
            },
            "colorscale": [
             [
              0,
              "#0d0887"
             ],
             [
              0.1111111111111111,
              "#46039f"
             ],
             [
              0.2222222222222222,
              "#7201a8"
             ],
             [
              0.3333333333333333,
              "#9c179e"
             ],
             [
              0.4444444444444444,
              "#bd3786"
             ],
             [
              0.5555555555555556,
              "#d8576b"
             ],
             [
              0.6666666666666666,
              "#ed7953"
             ],
             [
              0.7777777777777778,
              "#fb9f3a"
             ],
             [
              0.8888888888888888,
              "#fdca26"
             ],
             [
              1,
              "#f0f921"
             ]
            ],
            "type": "histogram2dcontour"
           }
          ],
          "mesh3d": [
           {
            "colorbar": {
             "outlinewidth": 0,
             "ticks": ""
            },
            "type": "mesh3d"
           }
          ],
          "parcoords": [
           {
            "line": {
             "colorbar": {
              "outlinewidth": 0,
              "ticks": ""
             }
            },
            "type": "parcoords"
           }
          ],
          "pie": [
           {
            "automargin": true,
            "type": "pie"
           }
          ],
          "scatter": [
           {
            "fillpattern": {
             "fillmode": "overlay",
             "size": 10,
             "solidity": 0.2
            },
            "type": "scatter"
           }
          ],
          "scatter3d": [
           {
            "line": {
             "colorbar": {
              "outlinewidth": 0,
              "ticks": ""
             }
            },
            "marker": {
             "colorbar": {
              "outlinewidth": 0,
              "ticks": ""
             }
            },
            "type": "scatter3d"
           }
          ],
          "scattercarpet": [
           {
            "marker": {
             "colorbar": {
              "outlinewidth": 0,
              "ticks": ""
             }
            },
            "type": "scattercarpet"
           }
          ],
          "scattergeo": [
           {
            "marker": {
             "colorbar": {
              "outlinewidth": 0,
              "ticks": ""
             }
            },
            "type": "scattergeo"
           }
          ],
          "scattergl": [
           {
            "marker": {
             "colorbar": {
              "outlinewidth": 0,
              "ticks": ""
             }
            },
            "type": "scattergl"
           }
          ],
          "scattermap": [
           {
            "marker": {
             "colorbar": {
              "outlinewidth": 0,
              "ticks": ""
             }
            },
            "type": "scattermap"
           }
          ],
          "scattermapbox": [
           {
            "marker": {
             "colorbar": {
              "outlinewidth": 0,
              "ticks": ""
             }
            },
            "type": "scattermapbox"
           }
          ],
          "scatterpolar": [
           {
            "marker": {
             "colorbar": {
              "outlinewidth": 0,
              "ticks": ""
             }
            },
            "type": "scatterpolar"
           }
          ],
          "scatterpolargl": [
           {
            "marker": {
             "colorbar": {
              "outlinewidth": 0,
              "ticks": ""
             }
            },
            "type": "scatterpolargl"
           }
          ],
          "scatterternary": [
           {
            "marker": {
             "colorbar": {
              "outlinewidth": 0,
              "ticks": ""
             }
            },
            "type": "scatterternary"
           }
          ],
          "surface": [
           {
            "colorbar": {
             "outlinewidth": 0,
             "ticks": ""
            },
            "colorscale": [
             [
              0,
              "#0d0887"
             ],
             [
              0.1111111111111111,
              "#46039f"
             ],
             [
              0.2222222222222222,
              "#7201a8"
             ],
             [
              0.3333333333333333,
              "#9c179e"
             ],
             [
              0.4444444444444444,
              "#bd3786"
             ],
             [
              0.5555555555555556,
              "#d8576b"
             ],
             [
              0.6666666666666666,
              "#ed7953"
             ],
             [
              0.7777777777777778,
              "#fb9f3a"
             ],
             [
              0.8888888888888888,
              "#fdca26"
             ],
             [
              1,
              "#f0f921"
             ]
            ],
            "type": "surface"
           }
          ],
          "table": [
           {
            "cells": {
             "fill": {
              "color": "#EBF0F8"
             },
             "line": {
              "color": "white"
             }
            },
            "header": {
             "fill": {
              "color": "#C8D4E3"
             },
             "line": {
              "color": "white"
             }
            },
            "type": "table"
           }
          ]
         },
         "layout": {
          "annotationdefaults": {
           "arrowcolor": "#2a3f5f",
           "arrowhead": 0,
           "arrowwidth": 1
          },
          "autotypenumbers": "strict",
          "coloraxis": {
           "colorbar": {
            "outlinewidth": 0,
            "ticks": ""
           }
          },
          "colorscale": {
           "diverging": [
            [
             0,
             "#8e0152"
            ],
            [
             0.1,
             "#c51b7d"
            ],
            [
             0.2,
             "#de77ae"
            ],
            [
             0.3,
             "#f1b6da"
            ],
            [
             0.4,
             "#fde0ef"
            ],
            [
             0.5,
             "#f7f7f7"
            ],
            [
             0.6,
             "#e6f5d0"
            ],
            [
             0.7,
             "#b8e186"
            ],
            [
             0.8,
             "#7fbc41"
            ],
            [
             0.9,
             "#4d9221"
            ],
            [
             1,
             "#276419"
            ]
           ],
           "sequential": [
            [
             0,
             "#0d0887"
            ],
            [
             0.1111111111111111,
             "#46039f"
            ],
            [
             0.2222222222222222,
             "#7201a8"
            ],
            [
             0.3333333333333333,
             "#9c179e"
            ],
            [
             0.4444444444444444,
             "#bd3786"
            ],
            [
             0.5555555555555556,
             "#d8576b"
            ],
            [
             0.6666666666666666,
             "#ed7953"
            ],
            [
             0.7777777777777778,
             "#fb9f3a"
            ],
            [
             0.8888888888888888,
             "#fdca26"
            ],
            [
             1,
             "#f0f921"
            ]
           ],
           "sequentialminus": [
            [
             0,
             "#0d0887"
            ],
            [
             0.1111111111111111,
             "#46039f"
            ],
            [
             0.2222222222222222,
             "#7201a8"
            ],
            [
             0.3333333333333333,
             "#9c179e"
            ],
            [
             0.4444444444444444,
             "#bd3786"
            ],
            [
             0.5555555555555556,
             "#d8576b"
            ],
            [
             0.6666666666666666,
             "#ed7953"
            ],
            [
             0.7777777777777778,
             "#fb9f3a"
            ],
            [
             0.8888888888888888,
             "#fdca26"
            ],
            [
             1,
             "#f0f921"
            ]
           ]
          },
          "colorway": [
           "#636efa",
           "#EF553B",
           "#00cc96",
           "#ab63fa",
           "#FFA15A",
           "#19d3f3",
           "#FF6692",
           "#B6E880",
           "#FF97FF",
           "#FECB52"
          ],
          "font": {
           "color": "#2a3f5f"
          },
          "geo": {
           "bgcolor": "white",
           "lakecolor": "white",
           "landcolor": "white",
           "showlakes": true,
           "showland": true,
           "subunitcolor": "#C8D4E3"
          },
          "hoverlabel": {
           "align": "left"
          },
          "hovermode": "closest",
          "mapbox": {
           "style": "light"
          },
          "paper_bgcolor": "white",
          "plot_bgcolor": "white",
          "polar": {
           "angularaxis": {
            "gridcolor": "#EBF0F8",
            "linecolor": "#EBF0F8",
            "ticks": ""
           },
           "bgcolor": "white",
           "radialaxis": {
            "gridcolor": "#EBF0F8",
            "linecolor": "#EBF0F8",
            "ticks": ""
           }
          },
          "scene": {
           "xaxis": {
            "backgroundcolor": "white",
            "gridcolor": "#DFE8F3",
            "gridwidth": 2,
            "linecolor": "#EBF0F8",
            "showbackground": true,
            "ticks": "",
            "zerolinecolor": "#EBF0F8"
           },
           "yaxis": {
            "backgroundcolor": "white",
            "gridcolor": "#DFE8F3",
            "gridwidth": 2,
            "linecolor": "#EBF0F8",
            "showbackground": true,
            "ticks": "",
            "zerolinecolor": "#EBF0F8"
           },
           "zaxis": {
            "backgroundcolor": "white",
            "gridcolor": "#DFE8F3",
            "gridwidth": 2,
            "linecolor": "#EBF0F8",
            "showbackground": true,
            "ticks": "",
            "zerolinecolor": "#EBF0F8"
           }
          },
          "shapedefaults": {
           "line": {
            "color": "#2a3f5f"
           }
          },
          "ternary": {
           "aaxis": {
            "gridcolor": "#DFE8F3",
            "linecolor": "#A2B1C6",
            "ticks": ""
           },
           "baxis": {
            "gridcolor": "#DFE8F3",
            "linecolor": "#A2B1C6",
            "ticks": ""
           },
           "bgcolor": "white",
           "caxis": {
            "gridcolor": "#DFE8F3",
            "linecolor": "#A2B1C6",
            "ticks": ""
           }
          },
          "title": {
           "x": 0.05
          },
          "xaxis": {
           "automargin": true,
           "gridcolor": "#EBF0F8",
           "linecolor": "#EBF0F8",
           "ticks": "",
           "title": {
            "standoff": 15
           },
           "zerolinecolor": "#EBF0F8",
           "zerolinewidth": 2
          },
          "yaxis": {
           "automargin": true,
           "gridcolor": "#EBF0F8",
           "linecolor": "#EBF0F8",
           "ticks": "",
           "title": {
            "standoff": 15
           },
           "zerolinecolor": "#EBF0F8",
           "zerolinewidth": 2
          }
         }
        },
        "title": {
         "text": "Percentage of Null Values by Column"
        },
        "xaxis": {
         "anchor": "y",
         "domain": [
          0,
          1
         ],
         "tickangle": -45,
         "title": {
          "text": "Columns"
         }
        },
        "yaxis": {
         "anchor": "x",
         "domain": [
          0,
          1
         ],
         "title": {
          "text": "Percentage (%)"
         }
        }
       }
      }
     },
     "metadata": {},
     "output_type": "display_data"
    }
   ],
   "source": [
    "null_percentage = df.isnull().mean() * 100\n",
    "null_percentage_non_zero = null_percentage[null_percentage > 0]\n",
    "\n",
    "fig = px.bar(\n",
    "    x=null_percentage_non_zero.sort_values(ascending=False).index,\n",
    "    y=null_percentage_non_zero.sort_values(ascending=False).values,\n",
    "    labels={'x': 'Columns', 'y': 'Percentage (%)'},\n",
    "    title='Percentage of Null Values by Column',\n",
    "    color_discrete_sequence=['salmon']\n",
    ")\n",
    "\n",
    "fig.update_layout(\n",
    "    xaxis_tickangle=-45,\n",
    "    xaxis_title='Columns',\n",
    "    yaxis_title='Percentage (%)',\n",
    "    bargap=0.2,\n",
    "    template='plotly_white'\n",
    ")\n",
    "\n",
    "fig.show()"
   ]
  },
  {
   "cell_type": "code",
   "execution_count": 69,
   "metadata": {},
   "outputs": [
    {
     "name": "stdout",
     "output_type": "stream",
     "text": [
      "lai            1.692648\n",
      "lst_day       31.204404\n",
      "lst_night     36.097263\n",
      "ndvi           0.212353\n",
      "smi           12.177162\n",
      "population     0.007717\n",
      "dtype: float64\n"
     ]
    }
   ],
   "source": [
    "print(null_percentage_non_zero)\n",
    "df.drop(columns=['lst_night', 'lst_day', 'smi', 'lai'], axis=1, inplace=True)\n",
    "df.dropna(inplace=True)"
   ]
  },
  {
   "cell_type": "code",
   "execution_count": null,
   "metadata": {},
   "outputs": [],
   "source": []
  },
  {
   "cell_type": "code",
   "execution_count": 70,
   "metadata": {},
   "outputs": [
    {
     "data": {
      "text/html": [
       "<div>\n",
       "<style scoped>\n",
       "    .dataframe tbody tr th:only-of-type {\n",
       "        vertical-align: middle;\n",
       "    }\n",
       "\n",
       "    .dataframe tbody tr th {\n",
       "        vertical-align: top;\n",
       "    }\n",
       "\n",
       "    .dataframe thead th {\n",
       "        text-align: right;\n",
       "    }\n",
       "</style>\n",
       "<table border=\"1\" class=\"dataframe\">\n",
       "  <thead>\n",
       "    <tr style=\"text-align: right;\">\n",
       "      <th></th>\n",
       "      <th>time</th>\n",
       "      <th>aspect</th>\n",
       "      <th>burned_areas</th>\n",
       "      <th>curvature</th>\n",
       "      <th>d2m</th>\n",
       "      <th>dem</th>\n",
       "      <th>ignition_points</th>\n",
       "      <th>ndvi</th>\n",
       "      <th>rh</th>\n",
       "      <th>roads_distance</th>\n",
       "      <th>...</th>\n",
       "      <th>lc_grassland</th>\n",
       "      <th>lc_settlement</th>\n",
       "      <th>lc_shrubland</th>\n",
       "      <th>lc_sparse_vegetation</th>\n",
       "      <th>lc_water_bodies</th>\n",
       "      <th>lc_wetland</th>\n",
       "      <th>population</th>\n",
       "      <th>burned_area_has</th>\n",
       "      <th>time_idx</th>\n",
       "      <th>sample</th>\n",
       "    </tr>\n",
       "  </thead>\n",
       "  <tbody>\n",
       "    <tr>\n",
       "      <th>0</th>\n",
       "      <td>2006-07-29</td>\n",
       "      <td>182.7782</td>\n",
       "      <td>0.0</td>\n",
       "      <td>-1469.6869</td>\n",
       "      <td>289.78036</td>\n",
       "      <td>142.89676</td>\n",
       "      <td>0.0</td>\n",
       "      <td>0.2461</td>\n",
       "      <td>0.251317</td>\n",
       "      <td>1.773</td>\n",
       "      <td>...</td>\n",
       "      <td>0.0</td>\n",
       "      <td>0.0</td>\n",
       "      <td>0.0</td>\n",
       "      <td>0.0</td>\n",
       "      <td>0.0</td>\n",
       "      <td>0.0</td>\n",
       "      <td>0.20321</td>\n",
       "      <td>40.0</td>\n",
       "      <td>0</td>\n",
       "      <td>0</td>\n",
       "    </tr>\n",
       "    <tr>\n",
       "      <th>1</th>\n",
       "      <td>2006-07-30</td>\n",
       "      <td>182.7782</td>\n",
       "      <td>0.0</td>\n",
       "      <td>-1469.6869</td>\n",
       "      <td>290.09662</td>\n",
       "      <td>142.89676</td>\n",
       "      <td>0.0</td>\n",
       "      <td>0.2461</td>\n",
       "      <td>0.251500</td>\n",
       "      <td>1.773</td>\n",
       "      <td>...</td>\n",
       "      <td>0.0</td>\n",
       "      <td>0.0</td>\n",
       "      <td>0.0</td>\n",
       "      <td>0.0</td>\n",
       "      <td>0.0</td>\n",
       "      <td>0.0</td>\n",
       "      <td>0.20321</td>\n",
       "      <td>40.0</td>\n",
       "      <td>1</td>\n",
       "      <td>0</td>\n",
       "    </tr>\n",
       "    <tr>\n",
       "      <th>2</th>\n",
       "      <td>2006-07-31</td>\n",
       "      <td>182.7782</td>\n",
       "      <td>0.0</td>\n",
       "      <td>-1469.6869</td>\n",
       "      <td>290.19055</td>\n",
       "      <td>142.89676</td>\n",
       "      <td>0.0</td>\n",
       "      <td>0.2461</td>\n",
       "      <td>0.325032</td>\n",
       "      <td>1.773</td>\n",
       "      <td>...</td>\n",
       "      <td>0.0</td>\n",
       "      <td>0.0</td>\n",
       "      <td>0.0</td>\n",
       "      <td>0.0</td>\n",
       "      <td>0.0</td>\n",
       "      <td>0.0</td>\n",
       "      <td>0.20321</td>\n",
       "      <td>40.0</td>\n",
       "      <td>2</td>\n",
       "      <td>0</td>\n",
       "    </tr>\n",
       "    <tr>\n",
       "      <th>3</th>\n",
       "      <td>2006-08-01</td>\n",
       "      <td>182.7782</td>\n",
       "      <td>0.0</td>\n",
       "      <td>-1469.6869</td>\n",
       "      <td>290.22266</td>\n",
       "      <td>142.89676</td>\n",
       "      <td>0.0</td>\n",
       "      <td>0.2461</td>\n",
       "      <td>0.282802</td>\n",
       "      <td>1.773</td>\n",
       "      <td>...</td>\n",
       "      <td>0.0</td>\n",
       "      <td>0.0</td>\n",
       "      <td>0.0</td>\n",
       "      <td>0.0</td>\n",
       "      <td>0.0</td>\n",
       "      <td>0.0</td>\n",
       "      <td>0.20321</td>\n",
       "      <td>40.0</td>\n",
       "      <td>3</td>\n",
       "      <td>0</td>\n",
       "    </tr>\n",
       "    <tr>\n",
       "      <th>4</th>\n",
       "      <td>2006-08-02</td>\n",
       "      <td>182.7782</td>\n",
       "      <td>0.0</td>\n",
       "      <td>-1469.6869</td>\n",
       "      <td>290.36680</td>\n",
       "      <td>142.89676</td>\n",
       "      <td>0.0</td>\n",
       "      <td>0.2461</td>\n",
       "      <td>0.347537</td>\n",
       "      <td>1.773</td>\n",
       "      <td>...</td>\n",
       "      <td>0.0</td>\n",
       "      <td>0.0</td>\n",
       "      <td>0.0</td>\n",
       "      <td>0.0</td>\n",
       "      <td>0.0</td>\n",
       "      <td>0.0</td>\n",
       "      <td>0.20321</td>\n",
       "      <td>40.0</td>\n",
       "      <td>4</td>\n",
       "      <td>0</td>\n",
       "    </tr>\n",
       "  </tbody>\n",
       "</table>\n",
       "<p>5 rows × 31 columns</p>\n",
       "</div>"
      ],
      "text/plain": [
       "         time    aspect  burned_areas  curvature        d2m        dem  \\\n",
       "0  2006-07-29  182.7782           0.0 -1469.6869  289.78036  142.89676   \n",
       "1  2006-07-30  182.7782           0.0 -1469.6869  290.09662  142.89676   \n",
       "2  2006-07-31  182.7782           0.0 -1469.6869  290.19055  142.89676   \n",
       "3  2006-08-01  182.7782           0.0 -1469.6869  290.22266  142.89676   \n",
       "4  2006-08-02  182.7782           0.0 -1469.6869  290.36680  142.89676   \n",
       "\n",
       "   ignition_points    ndvi        rh  roads_distance  ...  lc_grassland  \\\n",
       "0              0.0  0.2461  0.251317           1.773  ...           0.0   \n",
       "1              0.0  0.2461  0.251500           1.773  ...           0.0   \n",
       "2              0.0  0.2461  0.325032           1.773  ...           0.0   \n",
       "3              0.0  0.2461  0.282802           1.773  ...           0.0   \n",
       "4              0.0  0.2461  0.347537           1.773  ...           0.0   \n",
       "\n",
       "   lc_settlement  lc_shrubland  lc_sparse_vegetation  lc_water_bodies  \\\n",
       "0            0.0           0.0                   0.0              0.0   \n",
       "1            0.0           0.0                   0.0              0.0   \n",
       "2            0.0           0.0                   0.0              0.0   \n",
       "3            0.0           0.0                   0.0              0.0   \n",
       "4            0.0           0.0                   0.0              0.0   \n",
       "\n",
       "   lc_wetland  population  burned_area_has  time_idx  sample  \n",
       "0         0.0     0.20321             40.0         0       0  \n",
       "1         0.0     0.20321             40.0         1       0  \n",
       "2         0.0     0.20321             40.0         2       0  \n",
       "3         0.0     0.20321             40.0         3       0  \n",
       "4         0.0     0.20321             40.0         4       0  \n",
       "\n",
       "[5 rows x 31 columns]"
      ]
     },
     "execution_count": 70,
     "metadata": {},
     "output_type": "execute_result"
    }
   ],
   "source": [
    "df.head()"
   ]
  },
  {
   "cell_type": "markdown",
   "metadata": {},
   "source": [
    "**Changing dates format**"
   ]
  },
  {
   "cell_type": "code",
   "execution_count": 71,
   "metadata": {},
   "outputs": [
    {
     "data": {
      "text/html": [
       "<div>\n",
       "<style scoped>\n",
       "    .dataframe tbody tr th:only-of-type {\n",
       "        vertical-align: middle;\n",
       "    }\n",
       "\n",
       "    .dataframe tbody tr th {\n",
       "        vertical-align: top;\n",
       "    }\n",
       "\n",
       "    .dataframe thead th {\n",
       "        text-align: right;\n",
       "    }\n",
       "</style>\n",
       "<table border=\"1\" class=\"dataframe\">\n",
       "  <thead>\n",
       "    <tr style=\"text-align: right;\">\n",
       "      <th></th>\n",
       "      <th>aspect</th>\n",
       "      <th>burned_areas</th>\n",
       "      <th>curvature</th>\n",
       "      <th>d2m</th>\n",
       "      <th>dem</th>\n",
       "      <th>ignition_points</th>\n",
       "      <th>ndvi</th>\n",
       "      <th>rh</th>\n",
       "      <th>roads_distance</th>\n",
       "      <th>slope</th>\n",
       "      <th>...</th>\n",
       "      <th>year</th>\n",
       "      <th>month</th>\n",
       "      <th>day</th>\n",
       "      <th>day_of_year</th>\n",
       "      <th>week_of_year</th>\n",
       "      <th>quarter</th>\n",
       "      <th>month_sin</th>\n",
       "      <th>month_cos</th>\n",
       "      <th>day_of_year_sin</th>\n",
       "      <th>day_of_year_cos</th>\n",
       "    </tr>\n",
       "  </thead>\n",
       "  <tbody>\n",
       "    <tr>\n",
       "      <th>0</th>\n",
       "      <td>182.7782</td>\n",
       "      <td>0.0</td>\n",
       "      <td>-1469.6869</td>\n",
       "      <td>289.78036</td>\n",
       "      <td>142.89676</td>\n",
       "      <td>0.0</td>\n",
       "      <td>0.2461</td>\n",
       "      <td>0.251317</td>\n",
       "      <td>1.773</td>\n",
       "      <td>1.477166</td>\n",
       "      <td>...</td>\n",
       "      <td>2006</td>\n",
       "      <td>7</td>\n",
       "      <td>29</td>\n",
       "      <td>210</td>\n",
       "      <td>30</td>\n",
       "      <td>3</td>\n",
       "      <td>-0.500000</td>\n",
       "      <td>-0.866025</td>\n",
       "      <td>-0.455907</td>\n",
       "      <td>-0.890028</td>\n",
       "    </tr>\n",
       "    <tr>\n",
       "      <th>1</th>\n",
       "      <td>182.7782</td>\n",
       "      <td>0.0</td>\n",
       "      <td>-1469.6869</td>\n",
       "      <td>290.09662</td>\n",
       "      <td>142.89676</td>\n",
       "      <td>0.0</td>\n",
       "      <td>0.2461</td>\n",
       "      <td>0.251500</td>\n",
       "      <td>1.773</td>\n",
       "      <td>1.477166</td>\n",
       "      <td>...</td>\n",
       "      <td>2006</td>\n",
       "      <td>7</td>\n",
       "      <td>30</td>\n",
       "      <td>211</td>\n",
       "      <td>30</td>\n",
       "      <td>3</td>\n",
       "      <td>-0.500000</td>\n",
       "      <td>-0.866025</td>\n",
       "      <td>-0.471160</td>\n",
       "      <td>-0.882048</td>\n",
       "    </tr>\n",
       "    <tr>\n",
       "      <th>2</th>\n",
       "      <td>182.7782</td>\n",
       "      <td>0.0</td>\n",
       "      <td>-1469.6869</td>\n",
       "      <td>290.19055</td>\n",
       "      <td>142.89676</td>\n",
       "      <td>0.0</td>\n",
       "      <td>0.2461</td>\n",
       "      <td>0.325032</td>\n",
       "      <td>1.773</td>\n",
       "      <td>1.477166</td>\n",
       "      <td>...</td>\n",
       "      <td>2006</td>\n",
       "      <td>7</td>\n",
       "      <td>31</td>\n",
       "      <td>212</td>\n",
       "      <td>31</td>\n",
       "      <td>3</td>\n",
       "      <td>-0.500000</td>\n",
       "      <td>-0.866025</td>\n",
       "      <td>-0.486273</td>\n",
       "      <td>-0.873807</td>\n",
       "    </tr>\n",
       "    <tr>\n",
       "      <th>3</th>\n",
       "      <td>182.7782</td>\n",
       "      <td>0.0</td>\n",
       "      <td>-1469.6869</td>\n",
       "      <td>290.22266</td>\n",
       "      <td>142.89676</td>\n",
       "      <td>0.0</td>\n",
       "      <td>0.2461</td>\n",
       "      <td>0.282802</td>\n",
       "      <td>1.773</td>\n",
       "      <td>1.477166</td>\n",
       "      <td>...</td>\n",
       "      <td>2006</td>\n",
       "      <td>8</td>\n",
       "      <td>1</td>\n",
       "      <td>213</td>\n",
       "      <td>31</td>\n",
       "      <td>3</td>\n",
       "      <td>-0.866025</td>\n",
       "      <td>-0.500000</td>\n",
       "      <td>-0.501242</td>\n",
       "      <td>-0.865307</td>\n",
       "    </tr>\n",
       "    <tr>\n",
       "      <th>4</th>\n",
       "      <td>182.7782</td>\n",
       "      <td>0.0</td>\n",
       "      <td>-1469.6869</td>\n",
       "      <td>290.36680</td>\n",
       "      <td>142.89676</td>\n",
       "      <td>0.0</td>\n",
       "      <td>0.2461</td>\n",
       "      <td>0.347537</td>\n",
       "      <td>1.773</td>\n",
       "      <td>1.477166</td>\n",
       "      <td>...</td>\n",
       "      <td>2006</td>\n",
       "      <td>8</td>\n",
       "      <td>2</td>\n",
       "      <td>214</td>\n",
       "      <td>31</td>\n",
       "      <td>3</td>\n",
       "      <td>-0.866025</td>\n",
       "      <td>-0.500000</td>\n",
       "      <td>-0.516062</td>\n",
       "      <td>-0.856551</td>\n",
       "    </tr>\n",
       "  </tbody>\n",
       "</table>\n",
       "<p>5 rows × 40 columns</p>\n",
       "</div>"
      ],
      "text/plain": [
       "     aspect  burned_areas  curvature        d2m        dem  ignition_points  \\\n",
       "0  182.7782           0.0 -1469.6869  289.78036  142.89676              0.0   \n",
       "1  182.7782           0.0 -1469.6869  290.09662  142.89676              0.0   \n",
       "2  182.7782           0.0 -1469.6869  290.19055  142.89676              0.0   \n",
       "3  182.7782           0.0 -1469.6869  290.22266  142.89676              0.0   \n",
       "4  182.7782           0.0 -1469.6869  290.36680  142.89676              0.0   \n",
       "\n",
       "     ndvi        rh  roads_distance     slope  ...  year  month  day  \\\n",
       "0  0.2461  0.251317           1.773  1.477166  ...  2006      7   29   \n",
       "1  0.2461  0.251500           1.773  1.477166  ...  2006      7   30   \n",
       "2  0.2461  0.325032           1.773  1.477166  ...  2006      7   31   \n",
       "3  0.2461  0.282802           1.773  1.477166  ...  2006      8    1   \n",
       "4  0.2461  0.347537           1.773  1.477166  ...  2006      8    2   \n",
       "\n",
       "   day_of_year  week_of_year  quarter  month_sin  month_cos  day_of_year_sin  \\\n",
       "0          210            30        3  -0.500000  -0.866025        -0.455907   \n",
       "1          211            30        3  -0.500000  -0.866025        -0.471160   \n",
       "2          212            31        3  -0.500000  -0.866025        -0.486273   \n",
       "3          213            31        3  -0.866025  -0.500000        -0.501242   \n",
       "4          214            31        3  -0.866025  -0.500000        -0.516062   \n",
       "\n",
       "   day_of_year_cos  \n",
       "0        -0.890028  \n",
       "1        -0.882048  \n",
       "2        -0.873807  \n",
       "3        -0.865307  \n",
       "4        -0.856551  \n",
       "\n",
       "[5 rows x 40 columns]"
      ]
     },
     "execution_count": 71,
     "metadata": {},
     "output_type": "execute_result"
    }
   ],
   "source": [
    "df['time'] = pd.to_datetime(df['time'])\n",
    "df['year'] = df['time'].dt.year\n",
    "df['month'] = df['time'].dt.month\n",
    "df['day'] = df['time'].dt.day\n",
    "df['day_of_year'] = df['time'].dt.dayofyear\n",
    "df['week_of_year'] = df['time'].dt.isocalendar().week\n",
    "df['quarter'] = df['time'].dt.quarter\n",
    "df['month_sin'] = np.sin(2 * np.pi * df['month'] / 12)\n",
    "df['month_cos'] = np.cos(2 * np.pi * df['month'] / 12)\n",
    "df['day_of_year_sin'] = np.sin(2 * np.pi * df['day_of_year'] / 365)\n",
    "df['day_of_year_cos'] = np.cos(2 * np.pi * df['day_of_year'] / 365)\n",
    "df.drop(columns=['time'], inplace=True)\n",
    "df.head()"
   ]
  },
  {
   "cell_type": "code",
   "execution_count": 72,
   "metadata": {},
   "outputs": [
    {
     "data": {
      "text/plain": [
       "40"
      ]
     },
     "execution_count": 72,
     "metadata": {},
     "output_type": "execute_result"
    }
   ],
   "source": [
    "len(df.columns)"
   ]
  },
  {
   "cell_type": "code",
   "execution_count": 73,
   "metadata": {},
   "outputs": [],
   "source": [
    "\n",
    "df['target'] = (df['burned_area_has'] > 0).astype(int)\n",
    "target_counts = df['target'].value_counts()\n"
   ]
  },
  {
   "cell_type": "code",
   "execution_count": 74,
   "metadata": {},
   "outputs": [
    {
     "data": {
      "application/vnd.plotly.v1+json": {
       "config": {
        "plotlyServerURL": "https://plot.ly"
       },
       "data": [
        {
         "hovertemplate": "Class=%{x}<br>Count=%{y}<extra></extra>",
         "legendgroup": "",
         "marker": {
          "color": "darkblue",
          "opacity": 0.8,
          "pattern": {
           "shape": ""
          }
         },
         "name": "",
         "orientation": "v",
         "showlegend": false,
         "textposition": "auto",
         "type": "bar",
         "x": {
          "bdata": "AAE=",
          "dtype": "i1"
         },
         "xaxis": "x",
         "y": {
          "bdata": "5eoHAHTrAwA=",
          "dtype": "i4"
         },
         "yaxis": "y"
        }
       ],
       "layout": {
        "barmode": "relative",
        "legend": {
         "tracegroupgap": 0
        },
        "template": {
         "data": {
          "bar": [
           {
            "error_x": {
             "color": "#2a3f5f"
            },
            "error_y": {
             "color": "#2a3f5f"
            },
            "marker": {
             "line": {
              "color": "white",
              "width": 0.5
             },
             "pattern": {
              "fillmode": "overlay",
              "size": 10,
              "solidity": 0.2
             }
            },
            "type": "bar"
           }
          ],
          "barpolar": [
           {
            "marker": {
             "line": {
              "color": "white",
              "width": 0.5
             },
             "pattern": {
              "fillmode": "overlay",
              "size": 10,
              "solidity": 0.2
             }
            },
            "type": "barpolar"
           }
          ],
          "carpet": [
           {
            "aaxis": {
             "endlinecolor": "#2a3f5f",
             "gridcolor": "#C8D4E3",
             "linecolor": "#C8D4E3",
             "minorgridcolor": "#C8D4E3",
             "startlinecolor": "#2a3f5f"
            },
            "baxis": {
             "endlinecolor": "#2a3f5f",
             "gridcolor": "#C8D4E3",
             "linecolor": "#C8D4E3",
             "minorgridcolor": "#C8D4E3",
             "startlinecolor": "#2a3f5f"
            },
            "type": "carpet"
           }
          ],
          "choropleth": [
           {
            "colorbar": {
             "outlinewidth": 0,
             "ticks": ""
            },
            "type": "choropleth"
           }
          ],
          "contour": [
           {
            "colorbar": {
             "outlinewidth": 0,
             "ticks": ""
            },
            "colorscale": [
             [
              0,
              "#0d0887"
             ],
             [
              0.1111111111111111,
              "#46039f"
             ],
             [
              0.2222222222222222,
              "#7201a8"
             ],
             [
              0.3333333333333333,
              "#9c179e"
             ],
             [
              0.4444444444444444,
              "#bd3786"
             ],
             [
              0.5555555555555556,
              "#d8576b"
             ],
             [
              0.6666666666666666,
              "#ed7953"
             ],
             [
              0.7777777777777778,
              "#fb9f3a"
             ],
             [
              0.8888888888888888,
              "#fdca26"
             ],
             [
              1,
              "#f0f921"
             ]
            ],
            "type": "contour"
           }
          ],
          "contourcarpet": [
           {
            "colorbar": {
             "outlinewidth": 0,
             "ticks": ""
            },
            "type": "contourcarpet"
           }
          ],
          "heatmap": [
           {
            "colorbar": {
             "outlinewidth": 0,
             "ticks": ""
            },
            "colorscale": [
             [
              0,
              "#0d0887"
             ],
             [
              0.1111111111111111,
              "#46039f"
             ],
             [
              0.2222222222222222,
              "#7201a8"
             ],
             [
              0.3333333333333333,
              "#9c179e"
             ],
             [
              0.4444444444444444,
              "#bd3786"
             ],
             [
              0.5555555555555556,
              "#d8576b"
             ],
             [
              0.6666666666666666,
              "#ed7953"
             ],
             [
              0.7777777777777778,
              "#fb9f3a"
             ],
             [
              0.8888888888888888,
              "#fdca26"
             ],
             [
              1,
              "#f0f921"
             ]
            ],
            "type": "heatmap"
           }
          ],
          "histogram": [
           {
            "marker": {
             "pattern": {
              "fillmode": "overlay",
              "size": 10,
              "solidity": 0.2
             }
            },
            "type": "histogram"
           }
          ],
          "histogram2d": [
           {
            "colorbar": {
             "outlinewidth": 0,
             "ticks": ""
            },
            "colorscale": [
             [
              0,
              "#0d0887"
             ],
             [
              0.1111111111111111,
              "#46039f"
             ],
             [
              0.2222222222222222,
              "#7201a8"
             ],
             [
              0.3333333333333333,
              "#9c179e"
             ],
             [
              0.4444444444444444,
              "#bd3786"
             ],
             [
              0.5555555555555556,
              "#d8576b"
             ],
             [
              0.6666666666666666,
              "#ed7953"
             ],
             [
              0.7777777777777778,
              "#fb9f3a"
             ],
             [
              0.8888888888888888,
              "#fdca26"
             ],
             [
              1,
              "#f0f921"
             ]
            ],
            "type": "histogram2d"
           }
          ],
          "histogram2dcontour": [
           {
            "colorbar": {
             "outlinewidth": 0,
             "ticks": ""
            },
            "colorscale": [
             [
              0,
              "#0d0887"
             ],
             [
              0.1111111111111111,
              "#46039f"
             ],
             [
              0.2222222222222222,
              "#7201a8"
             ],
             [
              0.3333333333333333,
              "#9c179e"
             ],
             [
              0.4444444444444444,
              "#bd3786"
             ],
             [
              0.5555555555555556,
              "#d8576b"
             ],
             [
              0.6666666666666666,
              "#ed7953"
             ],
             [
              0.7777777777777778,
              "#fb9f3a"
             ],
             [
              0.8888888888888888,
              "#fdca26"
             ],
             [
              1,
              "#f0f921"
             ]
            ],
            "type": "histogram2dcontour"
           }
          ],
          "mesh3d": [
           {
            "colorbar": {
             "outlinewidth": 0,
             "ticks": ""
            },
            "type": "mesh3d"
           }
          ],
          "parcoords": [
           {
            "line": {
             "colorbar": {
              "outlinewidth": 0,
              "ticks": ""
             }
            },
            "type": "parcoords"
           }
          ],
          "pie": [
           {
            "automargin": true,
            "type": "pie"
           }
          ],
          "scatter": [
           {
            "fillpattern": {
             "fillmode": "overlay",
             "size": 10,
             "solidity": 0.2
            },
            "type": "scatter"
           }
          ],
          "scatter3d": [
           {
            "line": {
             "colorbar": {
              "outlinewidth": 0,
              "ticks": ""
             }
            },
            "marker": {
             "colorbar": {
              "outlinewidth": 0,
              "ticks": ""
             }
            },
            "type": "scatter3d"
           }
          ],
          "scattercarpet": [
           {
            "marker": {
             "colorbar": {
              "outlinewidth": 0,
              "ticks": ""
             }
            },
            "type": "scattercarpet"
           }
          ],
          "scattergeo": [
           {
            "marker": {
             "colorbar": {
              "outlinewidth": 0,
              "ticks": ""
             }
            },
            "type": "scattergeo"
           }
          ],
          "scattergl": [
           {
            "marker": {
             "colorbar": {
              "outlinewidth": 0,
              "ticks": ""
             }
            },
            "type": "scattergl"
           }
          ],
          "scattermap": [
           {
            "marker": {
             "colorbar": {
              "outlinewidth": 0,
              "ticks": ""
             }
            },
            "type": "scattermap"
           }
          ],
          "scattermapbox": [
           {
            "marker": {
             "colorbar": {
              "outlinewidth": 0,
              "ticks": ""
             }
            },
            "type": "scattermapbox"
           }
          ],
          "scatterpolar": [
           {
            "marker": {
             "colorbar": {
              "outlinewidth": 0,
              "ticks": ""
             }
            },
            "type": "scatterpolar"
           }
          ],
          "scatterpolargl": [
           {
            "marker": {
             "colorbar": {
              "outlinewidth": 0,
              "ticks": ""
             }
            },
            "type": "scatterpolargl"
           }
          ],
          "scatterternary": [
           {
            "marker": {
             "colorbar": {
              "outlinewidth": 0,
              "ticks": ""
             }
            },
            "type": "scatterternary"
           }
          ],
          "surface": [
           {
            "colorbar": {
             "outlinewidth": 0,
             "ticks": ""
            },
            "colorscale": [
             [
              0,
              "#0d0887"
             ],
             [
              0.1111111111111111,
              "#46039f"
             ],
             [
              0.2222222222222222,
              "#7201a8"
             ],
             [
              0.3333333333333333,
              "#9c179e"
             ],
             [
              0.4444444444444444,
              "#bd3786"
             ],
             [
              0.5555555555555556,
              "#d8576b"
             ],
             [
              0.6666666666666666,
              "#ed7953"
             ],
             [
              0.7777777777777778,
              "#fb9f3a"
             ],
             [
              0.8888888888888888,
              "#fdca26"
             ],
             [
              1,
              "#f0f921"
             ]
            ],
            "type": "surface"
           }
          ],
          "table": [
           {
            "cells": {
             "fill": {
              "color": "#EBF0F8"
             },
             "line": {
              "color": "white"
             }
            },
            "header": {
             "fill": {
              "color": "#C8D4E3"
             },
             "line": {
              "color": "white"
             }
            },
            "type": "table"
           }
          ]
         },
         "layout": {
          "annotationdefaults": {
           "arrowcolor": "#2a3f5f",
           "arrowhead": 0,
           "arrowwidth": 1
          },
          "autotypenumbers": "strict",
          "coloraxis": {
           "colorbar": {
            "outlinewidth": 0,
            "ticks": ""
           }
          },
          "colorscale": {
           "diverging": [
            [
             0,
             "#8e0152"
            ],
            [
             0.1,
             "#c51b7d"
            ],
            [
             0.2,
             "#de77ae"
            ],
            [
             0.3,
             "#f1b6da"
            ],
            [
             0.4,
             "#fde0ef"
            ],
            [
             0.5,
             "#f7f7f7"
            ],
            [
             0.6,
             "#e6f5d0"
            ],
            [
             0.7,
             "#b8e186"
            ],
            [
             0.8,
             "#7fbc41"
            ],
            [
             0.9,
             "#4d9221"
            ],
            [
             1,
             "#276419"
            ]
           ],
           "sequential": [
            [
             0,
             "#0d0887"
            ],
            [
             0.1111111111111111,
             "#46039f"
            ],
            [
             0.2222222222222222,
             "#7201a8"
            ],
            [
             0.3333333333333333,
             "#9c179e"
            ],
            [
             0.4444444444444444,
             "#bd3786"
            ],
            [
             0.5555555555555556,
             "#d8576b"
            ],
            [
             0.6666666666666666,
             "#ed7953"
            ],
            [
             0.7777777777777778,
             "#fb9f3a"
            ],
            [
             0.8888888888888888,
             "#fdca26"
            ],
            [
             1,
             "#f0f921"
            ]
           ],
           "sequentialminus": [
            [
             0,
             "#0d0887"
            ],
            [
             0.1111111111111111,
             "#46039f"
            ],
            [
             0.2222222222222222,
             "#7201a8"
            ],
            [
             0.3333333333333333,
             "#9c179e"
            ],
            [
             0.4444444444444444,
             "#bd3786"
            ],
            [
             0.5555555555555556,
             "#d8576b"
            ],
            [
             0.6666666666666666,
             "#ed7953"
            ],
            [
             0.7777777777777778,
             "#fb9f3a"
            ],
            [
             0.8888888888888888,
             "#fdca26"
            ],
            [
             1,
             "#f0f921"
            ]
           ]
          },
          "colorway": [
           "#636efa",
           "#EF553B",
           "#00cc96",
           "#ab63fa",
           "#FFA15A",
           "#19d3f3",
           "#FF6692",
           "#B6E880",
           "#FF97FF",
           "#FECB52"
          ],
          "font": {
           "color": "#2a3f5f"
          },
          "geo": {
           "bgcolor": "white",
           "lakecolor": "white",
           "landcolor": "white",
           "showlakes": true,
           "showland": true,
           "subunitcolor": "#C8D4E3"
          },
          "hoverlabel": {
           "align": "left"
          },
          "hovermode": "closest",
          "mapbox": {
           "style": "light"
          },
          "paper_bgcolor": "white",
          "plot_bgcolor": "white",
          "polar": {
           "angularaxis": {
            "gridcolor": "#EBF0F8",
            "linecolor": "#EBF0F8",
            "ticks": ""
           },
           "bgcolor": "white",
           "radialaxis": {
            "gridcolor": "#EBF0F8",
            "linecolor": "#EBF0F8",
            "ticks": ""
           }
          },
          "scene": {
           "xaxis": {
            "backgroundcolor": "white",
            "gridcolor": "#DFE8F3",
            "gridwidth": 2,
            "linecolor": "#EBF0F8",
            "showbackground": true,
            "ticks": "",
            "zerolinecolor": "#EBF0F8"
           },
           "yaxis": {
            "backgroundcolor": "white",
            "gridcolor": "#DFE8F3",
            "gridwidth": 2,
            "linecolor": "#EBF0F8",
            "showbackground": true,
            "ticks": "",
            "zerolinecolor": "#EBF0F8"
           },
           "zaxis": {
            "backgroundcolor": "white",
            "gridcolor": "#DFE8F3",
            "gridwidth": 2,
            "linecolor": "#EBF0F8",
            "showbackground": true,
            "ticks": "",
            "zerolinecolor": "#EBF0F8"
           }
          },
          "shapedefaults": {
           "line": {
            "color": "#2a3f5f"
           }
          },
          "ternary": {
           "aaxis": {
            "gridcolor": "#DFE8F3",
            "linecolor": "#A2B1C6",
            "ticks": ""
           },
           "baxis": {
            "gridcolor": "#DFE8F3",
            "linecolor": "#A2B1C6",
            "ticks": ""
           },
           "bgcolor": "white",
           "caxis": {
            "gridcolor": "#DFE8F3",
            "linecolor": "#A2B1C6",
            "ticks": ""
           }
          },
          "title": {
           "x": 0.05
          },
          "xaxis": {
           "automargin": true,
           "gridcolor": "#EBF0F8",
           "linecolor": "#EBF0F8",
           "ticks": "",
           "title": {
            "standoff": 15
           },
           "zerolinecolor": "#EBF0F8",
           "zerolinewidth": 2
          },
          "yaxis": {
           "automargin": true,
           "gridcolor": "#EBF0F8",
           "linecolor": "#EBF0F8",
           "ticks": "",
           "title": {
            "standoff": 15
           },
           "zerolinecolor": "#EBF0F8",
           "zerolinewidth": 2
          }
         }
        },
        "title": {
         "text": "Class Imbalance in Target Variable"
        },
        "xaxis": {
         "anchor": "y",
         "domain": [
          0,
          1
         ],
         "title": {
          "text": "Class"
         }
        },
        "yaxis": {
         "anchor": "x",
         "domain": [
          0,
          1
         ],
         "title": {
          "text": "Count"
         }
        }
       }
      }
     },
     "metadata": {},
     "output_type": "display_data"
    }
   ],
   "source": [
    "class_counts = df['target'].value_counts()\n",
    "fig = px.bar(\n",
    "    x=class_counts.index,\n",
    "    y=class_counts.values,\n",
    "    labels={'x': 'Class', 'y': 'Count'},\n",
    "    title='Class Imbalance in Target Variable',\n",
    "    color_discrete_sequence=['darkblue'],\n",
    "    opacity=0.8\n",
    ")\n",
    "\n",
    "fig.update_layout(\n",
    "    xaxis_title='Class',\n",
    "    yaxis_title='Count',\n",
    "    template='plotly_white'\n",
    ")\n",
    "\n",
    "fig.show()"
   ]
  },
  {
   "cell_type": "code",
   "execution_count": 75,
   "metadata": {},
   "outputs": [
    {
     "data": {
      "text/html": [
       "<div>\n",
       "<style scoped>\n",
       "    .dataframe tbody tr th:only-of-type {\n",
       "        vertical-align: middle;\n",
       "    }\n",
       "\n",
       "    .dataframe tbody tr th {\n",
       "        vertical-align: top;\n",
       "    }\n",
       "\n",
       "    .dataframe thead th {\n",
       "        text-align: right;\n",
       "    }\n",
       "</style>\n",
       "<table border=\"1\" class=\"dataframe\">\n",
       "  <thead>\n",
       "    <tr style=\"text-align: right;\">\n",
       "      <th></th>\n",
       "      <th>aspect</th>\n",
       "      <th>burned_areas</th>\n",
       "      <th>curvature</th>\n",
       "      <th>d2m</th>\n",
       "      <th>dem</th>\n",
       "      <th>ignition_points</th>\n",
       "      <th>ndvi</th>\n",
       "      <th>rh</th>\n",
       "      <th>roads_distance</th>\n",
       "      <th>slope</th>\n",
       "      <th>...</th>\n",
       "      <th>month</th>\n",
       "      <th>day</th>\n",
       "      <th>day_of_year</th>\n",
       "      <th>week_of_year</th>\n",
       "      <th>quarter</th>\n",
       "      <th>month_sin</th>\n",
       "      <th>month_cos</th>\n",
       "      <th>day_of_year_sin</th>\n",
       "      <th>day_of_year_cos</th>\n",
       "      <th>target</th>\n",
       "    </tr>\n",
       "  </thead>\n",
       "  <tbody>\n",
       "    <tr>\n",
       "      <th>0</th>\n",
       "      <td>182.7782</td>\n",
       "      <td>0.0</td>\n",
       "      <td>-1469.6869</td>\n",
       "      <td>289.78036</td>\n",
       "      <td>142.89676</td>\n",
       "      <td>0.0</td>\n",
       "      <td>0.2461</td>\n",
       "      <td>0.251317</td>\n",
       "      <td>1.773</td>\n",
       "      <td>1.477166</td>\n",
       "      <td>...</td>\n",
       "      <td>7</td>\n",
       "      <td>29</td>\n",
       "      <td>210</td>\n",
       "      <td>30</td>\n",
       "      <td>3</td>\n",
       "      <td>-0.500000</td>\n",
       "      <td>-0.866025</td>\n",
       "      <td>-0.455907</td>\n",
       "      <td>-0.890028</td>\n",
       "      <td>1</td>\n",
       "    </tr>\n",
       "    <tr>\n",
       "      <th>1</th>\n",
       "      <td>182.7782</td>\n",
       "      <td>0.0</td>\n",
       "      <td>-1469.6869</td>\n",
       "      <td>290.09662</td>\n",
       "      <td>142.89676</td>\n",
       "      <td>0.0</td>\n",
       "      <td>0.2461</td>\n",
       "      <td>0.251500</td>\n",
       "      <td>1.773</td>\n",
       "      <td>1.477166</td>\n",
       "      <td>...</td>\n",
       "      <td>7</td>\n",
       "      <td>30</td>\n",
       "      <td>211</td>\n",
       "      <td>30</td>\n",
       "      <td>3</td>\n",
       "      <td>-0.500000</td>\n",
       "      <td>-0.866025</td>\n",
       "      <td>-0.471160</td>\n",
       "      <td>-0.882048</td>\n",
       "      <td>1</td>\n",
       "    </tr>\n",
       "    <tr>\n",
       "      <th>2</th>\n",
       "      <td>182.7782</td>\n",
       "      <td>0.0</td>\n",
       "      <td>-1469.6869</td>\n",
       "      <td>290.19055</td>\n",
       "      <td>142.89676</td>\n",
       "      <td>0.0</td>\n",
       "      <td>0.2461</td>\n",
       "      <td>0.325032</td>\n",
       "      <td>1.773</td>\n",
       "      <td>1.477166</td>\n",
       "      <td>...</td>\n",
       "      <td>7</td>\n",
       "      <td>31</td>\n",
       "      <td>212</td>\n",
       "      <td>31</td>\n",
       "      <td>3</td>\n",
       "      <td>-0.500000</td>\n",
       "      <td>-0.866025</td>\n",
       "      <td>-0.486273</td>\n",
       "      <td>-0.873807</td>\n",
       "      <td>1</td>\n",
       "    </tr>\n",
       "    <tr>\n",
       "      <th>3</th>\n",
       "      <td>182.7782</td>\n",
       "      <td>0.0</td>\n",
       "      <td>-1469.6869</td>\n",
       "      <td>290.22266</td>\n",
       "      <td>142.89676</td>\n",
       "      <td>0.0</td>\n",
       "      <td>0.2461</td>\n",
       "      <td>0.282802</td>\n",
       "      <td>1.773</td>\n",
       "      <td>1.477166</td>\n",
       "      <td>...</td>\n",
       "      <td>8</td>\n",
       "      <td>1</td>\n",
       "      <td>213</td>\n",
       "      <td>31</td>\n",
       "      <td>3</td>\n",
       "      <td>-0.866025</td>\n",
       "      <td>-0.500000</td>\n",
       "      <td>-0.501242</td>\n",
       "      <td>-0.865307</td>\n",
       "      <td>1</td>\n",
       "    </tr>\n",
       "    <tr>\n",
       "      <th>4</th>\n",
       "      <td>182.7782</td>\n",
       "      <td>0.0</td>\n",
       "      <td>-1469.6869</td>\n",
       "      <td>290.36680</td>\n",
       "      <td>142.89676</td>\n",
       "      <td>0.0</td>\n",
       "      <td>0.2461</td>\n",
       "      <td>0.347537</td>\n",
       "      <td>1.773</td>\n",
       "      <td>1.477166</td>\n",
       "      <td>...</td>\n",
       "      <td>8</td>\n",
       "      <td>2</td>\n",
       "      <td>214</td>\n",
       "      <td>31</td>\n",
       "      <td>3</td>\n",
       "      <td>-0.866025</td>\n",
       "      <td>-0.500000</td>\n",
       "      <td>-0.516062</td>\n",
       "      <td>-0.856551</td>\n",
       "      <td>1</td>\n",
       "    </tr>\n",
       "  </tbody>\n",
       "</table>\n",
       "<p>5 rows × 41 columns</p>\n",
       "</div>"
      ],
      "text/plain": [
       "     aspect  burned_areas  curvature        d2m        dem  ignition_points  \\\n",
       "0  182.7782           0.0 -1469.6869  289.78036  142.89676              0.0   \n",
       "1  182.7782           0.0 -1469.6869  290.09662  142.89676              0.0   \n",
       "2  182.7782           0.0 -1469.6869  290.19055  142.89676              0.0   \n",
       "3  182.7782           0.0 -1469.6869  290.22266  142.89676              0.0   \n",
       "4  182.7782           0.0 -1469.6869  290.36680  142.89676              0.0   \n",
       "\n",
       "     ndvi        rh  roads_distance     slope  ...  month  day  day_of_year  \\\n",
       "0  0.2461  0.251317           1.773  1.477166  ...      7   29          210   \n",
       "1  0.2461  0.251500           1.773  1.477166  ...      7   30          211   \n",
       "2  0.2461  0.325032           1.773  1.477166  ...      7   31          212   \n",
       "3  0.2461  0.282802           1.773  1.477166  ...      8    1          213   \n",
       "4  0.2461  0.347537           1.773  1.477166  ...      8    2          214   \n",
       "\n",
       "   week_of_year  quarter  month_sin  month_cos  day_of_year_sin  \\\n",
       "0            30        3  -0.500000  -0.866025        -0.455907   \n",
       "1            30        3  -0.500000  -0.866025        -0.471160   \n",
       "2            31        3  -0.500000  -0.866025        -0.486273   \n",
       "3            31        3  -0.866025  -0.500000        -0.501242   \n",
       "4            31        3  -0.866025  -0.500000        -0.516062   \n",
       "\n",
       "   day_of_year_cos  target  \n",
       "0        -0.890028       1  \n",
       "1        -0.882048       1  \n",
       "2        -0.873807       1  \n",
       "3        -0.865307       1  \n",
       "4        -0.856551       1  \n",
       "\n",
       "[5 rows x 41 columns]"
      ]
     },
     "execution_count": 75,
     "metadata": {},
     "output_type": "execute_result"
    }
   ],
   "source": [
    "df.head()"
   ]
  },
  {
   "cell_type": "markdown",
   "metadata": {},
   "source": [
    "**Data Scaling**"
   ]
  },
  {
   "cell_type": "code",
   "execution_count": 76,
   "metadata": {},
   "outputs": [
    {
     "data": {
      "text/html": [
       "<div>\n",
       "<style scoped>\n",
       "    .dataframe tbody tr th:only-of-type {\n",
       "        vertical-align: middle;\n",
       "    }\n",
       "\n",
       "    .dataframe tbody tr th {\n",
       "        vertical-align: top;\n",
       "    }\n",
       "\n",
       "    .dataframe thead th {\n",
       "        text-align: right;\n",
       "    }\n",
       "</style>\n",
       "<table border=\"1\" class=\"dataframe\">\n",
       "  <thead>\n",
       "    <tr style=\"text-align: right;\">\n",
       "      <th></th>\n",
       "      <th>aspect</th>\n",
       "      <th>burned_areas</th>\n",
       "      <th>curvature</th>\n",
       "      <th>d2m</th>\n",
       "      <th>dem</th>\n",
       "      <th>ignition_points</th>\n",
       "      <th>ndvi</th>\n",
       "      <th>rh</th>\n",
       "      <th>roads_distance</th>\n",
       "      <th>slope</th>\n",
       "      <th>...</th>\n",
       "      <th>month</th>\n",
       "      <th>day</th>\n",
       "      <th>day_of_year</th>\n",
       "      <th>week_of_year</th>\n",
       "      <th>quarter</th>\n",
       "      <th>month_sin</th>\n",
       "      <th>month_cos</th>\n",
       "      <th>day_of_year_sin</th>\n",
       "      <th>day_of_year_cos</th>\n",
       "      <th>target</th>\n",
       "    </tr>\n",
       "  </thead>\n",
       "  <tbody>\n",
       "    <tr>\n",
       "      <th>count</th>\n",
       "      <td>775769.000000</td>\n",
       "      <td>775769.000000</td>\n",
       "      <td>775769.000000</td>\n",
       "      <td>775769.000000</td>\n",
       "      <td>775769.000000</td>\n",
       "      <td>775769.000000</td>\n",
       "      <td>775769.000000</td>\n",
       "      <td>775769.000000</td>\n",
       "      <td>775769.000000</td>\n",
       "      <td>775769.000000</td>\n",
       "      <td>...</td>\n",
       "      <td>775769.000000</td>\n",
       "      <td>775769.000000</td>\n",
       "      <td>775769.000000</td>\n",
       "      <td>775769.0</td>\n",
       "      <td>775769.000000</td>\n",
       "      <td>775769.000000</td>\n",
       "      <td>7.757690e+05</td>\n",
       "      <td>775769.000000</td>\n",
       "      <td>775769.000000</td>\n",
       "      <td>775769.000000</td>\n",
       "    </tr>\n",
       "    <tr>\n",
       "      <th>mean</th>\n",
       "      <td>185.242203</td>\n",
       "      <td>0.007620</td>\n",
       "      <td>874.941700</td>\n",
       "      <td>285.561284</td>\n",
       "      <td>655.101270</td>\n",
       "      <td>1.610313</td>\n",
       "      <td>0.471344</td>\n",
       "      <td>0.390839</td>\n",
       "      <td>3.322183</td>\n",
       "      <td>1.516245</td>\n",
       "      <td>...</td>\n",
       "      <td>6.408600</td>\n",
       "      <td>15.721716</td>\n",
       "      <td>179.411824</td>\n",
       "      <td>26.002713</td>\n",
       "      <td>2.477832</td>\n",
       "      <td>-0.141672</td>\n",
       "      <td>-4.070424e-01</td>\n",
       "      <td>-0.028451</td>\n",
       "      <td>-0.431026</td>\n",
       "      <td>0.331135</td>\n",
       "    </tr>\n",
       "    <tr>\n",
       "      <th>std</th>\n",
       "      <td>105.406786</td>\n",
       "      <td>0.086986</td>\n",
       "      <td>15331.988854</td>\n",
       "      <td>5.626499</td>\n",
       "      <td>423.083277</td>\n",
       "      <td>144.196002</td>\n",
       "      <td>0.172371</td>\n",
       "      <td>0.166458</td>\n",
       "      <td>3.387954</td>\n",
       "      <td>0.121316</td>\n",
       "      <td>...</td>\n",
       "      <td>2.415129</td>\n",
       "      <td>8.790070</td>\n",
       "      <td>73.434114</td>\n",
       "      <td>10.497464</td>\n",
       "      <td>0.853675</td>\n",
       "      <td>0.709255</td>\n",
       "      <td>5.578566e-01</td>\n",
       "      <td>0.687838</td>\n",
       "      <td>0.583341</td>\n",
       "      <td>0.470622</td>\n",
       "    </tr>\n",
       "    <tr>\n",
       "      <th>min</th>\n",
       "      <td>0.016977</td>\n",
       "      <td>0.000000</td>\n",
       "      <td>-76752.445000</td>\n",
       "      <td>252.076050</td>\n",
       "      <td>-227.174500</td>\n",
       "      <td>0.000000</td>\n",
       "      <td>-0.122000</td>\n",
       "      <td>0.027781</td>\n",
       "      <td>0.000000</td>\n",
       "      <td>0.011270</td>\n",
       "      <td>...</td>\n",
       "      <td>1.000000</td>\n",
       "      <td>1.000000</td>\n",
       "      <td>1.000000</td>\n",
       "      <td>1.0</td>\n",
       "      <td>1.000000</td>\n",
       "      <td>-1.000000</td>\n",
       "      <td>-1.000000e+00</td>\n",
       "      <td>-0.999991</td>\n",
       "      <td>-0.999963</td>\n",
       "      <td>0.000000</td>\n",
       "    </tr>\n",
       "    <tr>\n",
       "      <th>25%</th>\n",
       "      <td>99.528190</td>\n",
       "      <td>0.000000</td>\n",
       "      <td>-6102.627400</td>\n",
       "      <td>281.971770</td>\n",
       "      <td>315.967470</td>\n",
       "      <td>0.000000</td>\n",
       "      <td>0.340700</td>\n",
       "      <td>0.263795</td>\n",
       "      <td>1.142000</td>\n",
       "      <td>1.523536</td>\n",
       "      <td>...</td>\n",
       "      <td>5.000000</td>\n",
       "      <td>8.000000</td>\n",
       "      <td>127.000000</td>\n",
       "      <td>18.0</td>\n",
       "      <td>2.000000</td>\n",
       "      <td>-0.866025</td>\n",
       "      <td>-8.660254e-01</td>\n",
       "      <td>-0.655156</td>\n",
       "      <td>-0.925925</td>\n",
       "      <td>0.000000</td>\n",
       "    </tr>\n",
       "    <tr>\n",
       "      <th>50%</th>\n",
       "      <td>185.925280</td>\n",
       "      <td>0.000000</td>\n",
       "      <td>-148.271940</td>\n",
       "      <td>286.317700</td>\n",
       "      <td>602.892000</td>\n",
       "      <td>0.000000</td>\n",
       "      <td>0.471600</td>\n",
       "      <td>0.373498</td>\n",
       "      <td>2.428000</td>\n",
       "      <td>1.549848</td>\n",
       "      <td>...</td>\n",
       "      <td>7.000000</td>\n",
       "      <td>16.000000</td>\n",
       "      <td>190.000000</td>\n",
       "      <td>28.0</td>\n",
       "      <td>3.000000</td>\n",
       "      <td>-0.500000</td>\n",
       "      <td>-5.000000e-01</td>\n",
       "      <td>-0.111659</td>\n",
       "      <td>-0.658402</td>\n",
       "      <td>0.000000</td>\n",
       "    </tr>\n",
       "    <tr>\n",
       "      <th>75%</th>\n",
       "      <td>276.237400</td>\n",
       "      <td>0.000000</td>\n",
       "      <td>6861.145000</td>\n",
       "      <td>289.793150</td>\n",
       "      <td>923.674100</td>\n",
       "      <td>0.000000</td>\n",
       "      <td>0.599100</td>\n",
       "      <td>0.496941</td>\n",
       "      <td>4.491000</td>\n",
       "      <td>1.559715</td>\n",
       "      <td>...</td>\n",
       "      <td>8.000000</td>\n",
       "      <td>23.000000</td>\n",
       "      <td>228.000000</td>\n",
       "      <td>33.0</td>\n",
       "      <td>3.000000</td>\n",
       "      <td>0.500000</td>\n",
       "      <td>-1.836970e-16</td>\n",
       "      <td>0.680773</td>\n",
       "      <td>-0.030120</td>\n",
       "      <td>1.000000</td>\n",
       "    </tr>\n",
       "    <tr>\n",
       "      <th>max</th>\n",
       "      <td>359.988200</td>\n",
       "      <td>2.000000</td>\n",
       "      <td>89969.230000</td>\n",
       "      <td>299.610140</td>\n",
       "      <td>3015.610000</td>\n",
       "      <td>107602.000000</td>\n",
       "      <td>0.933100</td>\n",
       "      <td>0.993205</td>\n",
       "      <td>86.764000</td>\n",
       "      <td>1.568866</td>\n",
       "      <td>...</td>\n",
       "      <td>12.000000</td>\n",
       "      <td>31.000000</td>\n",
       "      <td>366.000000</td>\n",
       "      <td>53.0</td>\n",
       "      <td>4.000000</td>\n",
       "      <td>1.000000</td>\n",
       "      <td>1.000000e+00</td>\n",
       "      <td>0.999991</td>\n",
       "      <td>1.000000</td>\n",
       "      <td>1.000000</td>\n",
       "    </tr>\n",
       "  </tbody>\n",
       "</table>\n",
       "<p>8 rows × 41 columns</p>\n",
       "</div>"
      ],
      "text/plain": [
       "              aspect   burned_areas      curvature            d2m  \\\n",
       "count  775769.000000  775769.000000  775769.000000  775769.000000   \n",
       "mean      185.242203       0.007620     874.941700     285.561284   \n",
       "std       105.406786       0.086986   15331.988854       5.626499   \n",
       "min         0.016977       0.000000  -76752.445000     252.076050   \n",
       "25%        99.528190       0.000000   -6102.627400     281.971770   \n",
       "50%       185.925280       0.000000    -148.271940     286.317700   \n",
       "75%       276.237400       0.000000    6861.145000     289.793150   \n",
       "max       359.988200       2.000000   89969.230000     299.610140   \n",
       "\n",
       "                 dem  ignition_points           ndvi             rh  \\\n",
       "count  775769.000000    775769.000000  775769.000000  775769.000000   \n",
       "mean      655.101270         1.610313       0.471344       0.390839   \n",
       "std       423.083277       144.196002       0.172371       0.166458   \n",
       "min      -227.174500         0.000000      -0.122000       0.027781   \n",
       "25%       315.967470         0.000000       0.340700       0.263795   \n",
       "50%       602.892000         0.000000       0.471600       0.373498   \n",
       "75%       923.674100         0.000000       0.599100       0.496941   \n",
       "max      3015.610000    107602.000000       0.933100       0.993205   \n",
       "\n",
       "       roads_distance          slope  ...          month            day  \\\n",
       "count   775769.000000  775769.000000  ...  775769.000000  775769.000000   \n",
       "mean         3.322183       1.516245  ...       6.408600      15.721716   \n",
       "std          3.387954       0.121316  ...       2.415129       8.790070   \n",
       "min          0.000000       0.011270  ...       1.000000       1.000000   \n",
       "25%          1.142000       1.523536  ...       5.000000       8.000000   \n",
       "50%          2.428000       1.549848  ...       7.000000      16.000000   \n",
       "75%          4.491000       1.559715  ...       8.000000      23.000000   \n",
       "max         86.764000       1.568866  ...      12.000000      31.000000   \n",
       "\n",
       "         day_of_year  week_of_year        quarter      month_sin  \\\n",
       "count  775769.000000      775769.0  775769.000000  775769.000000   \n",
       "mean      179.411824     26.002713       2.477832      -0.141672   \n",
       "std        73.434114     10.497464       0.853675       0.709255   \n",
       "min         1.000000           1.0       1.000000      -1.000000   \n",
       "25%       127.000000          18.0       2.000000      -0.866025   \n",
       "50%       190.000000          28.0       3.000000      -0.500000   \n",
       "75%       228.000000          33.0       3.000000       0.500000   \n",
       "max       366.000000          53.0       4.000000       1.000000   \n",
       "\n",
       "          month_cos  day_of_year_sin  day_of_year_cos         target  \n",
       "count  7.757690e+05    775769.000000    775769.000000  775769.000000  \n",
       "mean  -4.070424e-01        -0.028451        -0.431026       0.331135  \n",
       "std    5.578566e-01         0.687838         0.583341       0.470622  \n",
       "min   -1.000000e+00        -0.999991        -0.999963       0.000000  \n",
       "25%   -8.660254e-01        -0.655156        -0.925925       0.000000  \n",
       "50%   -5.000000e-01        -0.111659        -0.658402       0.000000  \n",
       "75%   -1.836970e-16         0.680773        -0.030120       1.000000  \n",
       "max    1.000000e+00         0.999991         1.000000       1.000000  \n",
       "\n",
       "[8 rows x 41 columns]"
      ]
     },
     "execution_count": 76,
     "metadata": {},
     "output_type": "execute_result"
    }
   ],
   "source": [
    "df.describe()"
   ]
  },
  {
   "cell_type": "code",
   "execution_count": 77,
   "metadata": {},
   "outputs": [
    {
     "ename": "",
     "evalue": "",
     "output_type": "error",
     "traceback": [
      "\u001b[1;31mThe Kernel crashed while executing code in the current cell or a previous cell. \n",
      "\u001b[1;31mPlease review the code in the cell(s) to identify a possible cause of the failure. \n",
      "\u001b[1;31mClick <a href='https://aka.ms/vscodeJupyterKernelCrash'>here</a> for more info. \n",
      "\u001b[1;31mView Jupyter <a href='command:jupyter.viewOutput'>log</a> for further details."
     ]
    }
   ],
   "source": [
    "df.to_csv(\"unprocessed.csv\",index=False)"
   ]
  },
  {
   "cell_type": "code",
   "execution_count": 59,
   "metadata": {},
   "outputs": [],
   "source": [
    "columns_to_skip=[\n",
    "    \"target\",\n",
    "    \"year\", \"month\", \"day\", \"day_of_year\", \n",
    "    \"week_of_year\", \"quarter\", \"month_sin\", \"month_cos\", \n",
    "    \"day_of_year_sin\", \"day_of_year_cos\",'x','y'\n",
    "]\n",
    "\n",
    "columns_to_scale=[col for col in df.columns if col not in columns_to_skip]"
   ]
  },
  {
   "cell_type": "code",
   "execution_count": 60,
   "metadata": {},
   "outputs": [],
   "source": [
    "\n",
    "scaler = StandardScaler()\n",
    "df[columns_to_scale] = scaler.fit_transform(df[columns_to_scale])\n"
   ]
  },
  {
   "cell_type": "code",
   "execution_count": 61,
   "metadata": {},
   "outputs": [
    {
     "data": {
      "text/html": [
       "<div>\n",
       "<style scoped>\n",
       "    .dataframe tbody tr th:only-of-type {\n",
       "        vertical-align: middle;\n",
       "    }\n",
       "\n",
       "    .dataframe tbody tr th {\n",
       "        vertical-align: top;\n",
       "    }\n",
       "\n",
       "    .dataframe thead th {\n",
       "        text-align: right;\n",
       "    }\n",
       "</style>\n",
       "<table border=\"1\" class=\"dataframe\">\n",
       "  <thead>\n",
       "    <tr style=\"text-align: right;\">\n",
       "      <th></th>\n",
       "      <th>aspect</th>\n",
       "      <th>burned_areas</th>\n",
       "      <th>curvature</th>\n",
       "      <th>d2m</th>\n",
       "      <th>dem</th>\n",
       "      <th>ignition_points</th>\n",
       "      <th>ndvi</th>\n",
       "      <th>rh</th>\n",
       "      <th>roads_distance</th>\n",
       "      <th>slope</th>\n",
       "      <th>...</th>\n",
       "      <th>month</th>\n",
       "      <th>day</th>\n",
       "      <th>day_of_year</th>\n",
       "      <th>week_of_year</th>\n",
       "      <th>quarter</th>\n",
       "      <th>month_sin</th>\n",
       "      <th>month_cos</th>\n",
       "      <th>day_of_year_sin</th>\n",
       "      <th>day_of_year_cos</th>\n",
       "      <th>target</th>\n",
       "    </tr>\n",
       "  </thead>\n",
       "  <tbody>\n",
       "    <tr>\n",
       "      <th>0</th>\n",
       "      <td>-0.023376</td>\n",
       "      <td>-0.087595</td>\n",
       "      <td>-0.152924</td>\n",
       "      <td>0.749859</td>\n",
       "      <td>-1.210648</td>\n",
       "      <td>-0.011168</td>\n",
       "      <td>-1.306742</td>\n",
       "      <td>-0.838179</td>\n",
       "      <td>-0.457263</td>\n",
       "      <td>-0.322125</td>\n",
       "      <td>...</td>\n",
       "      <td>7</td>\n",
       "      <td>29</td>\n",
       "      <td>210</td>\n",
       "      <td>30</td>\n",
       "      <td>3</td>\n",
       "      <td>-0.500000</td>\n",
       "      <td>-0.866025</td>\n",
       "      <td>-0.455907</td>\n",
       "      <td>-0.890028</td>\n",
       "      <td>1</td>\n",
       "    </tr>\n",
       "    <tr>\n",
       "      <th>1</th>\n",
       "      <td>-0.023376</td>\n",
       "      <td>-0.087595</td>\n",
       "      <td>-0.152924</td>\n",
       "      <td>0.806068</td>\n",
       "      <td>-1.210648</td>\n",
       "      <td>-0.011168</td>\n",
       "      <td>-1.306742</td>\n",
       "      <td>-0.837083</td>\n",
       "      <td>-0.457263</td>\n",
       "      <td>-0.322125</td>\n",
       "      <td>...</td>\n",
       "      <td>7</td>\n",
       "      <td>30</td>\n",
       "      <td>211</td>\n",
       "      <td>30</td>\n",
       "      <td>3</td>\n",
       "      <td>-0.500000</td>\n",
       "      <td>-0.866025</td>\n",
       "      <td>-0.471160</td>\n",
       "      <td>-0.882048</td>\n",
       "      <td>1</td>\n",
       "    </tr>\n",
       "    <tr>\n",
       "      <th>2</th>\n",
       "      <td>-0.023376</td>\n",
       "      <td>-0.087595</td>\n",
       "      <td>-0.152924</td>\n",
       "      <td>0.822762</td>\n",
       "      <td>-1.210648</td>\n",
       "      <td>-0.011168</td>\n",
       "      <td>-1.306742</td>\n",
       "      <td>-0.395334</td>\n",
       "      <td>-0.457263</td>\n",
       "      <td>-0.322125</td>\n",
       "      <td>...</td>\n",
       "      <td>7</td>\n",
       "      <td>31</td>\n",
       "      <td>212</td>\n",
       "      <td>31</td>\n",
       "      <td>3</td>\n",
       "      <td>-0.500000</td>\n",
       "      <td>-0.866025</td>\n",
       "      <td>-0.486273</td>\n",
       "      <td>-0.873807</td>\n",
       "      <td>1</td>\n",
       "    </tr>\n",
       "    <tr>\n",
       "      <th>3</th>\n",
       "      <td>-0.023376</td>\n",
       "      <td>-0.087595</td>\n",
       "      <td>-0.152924</td>\n",
       "      <td>0.828469</td>\n",
       "      <td>-1.210648</td>\n",
       "      <td>-0.011168</td>\n",
       "      <td>-1.306742</td>\n",
       "      <td>-0.649035</td>\n",
       "      <td>-0.457263</td>\n",
       "      <td>-0.322125</td>\n",
       "      <td>...</td>\n",
       "      <td>8</td>\n",
       "      <td>1</td>\n",
       "      <td>213</td>\n",
       "      <td>31</td>\n",
       "      <td>3</td>\n",
       "      <td>-0.866025</td>\n",
       "      <td>-0.500000</td>\n",
       "      <td>-0.501242</td>\n",
       "      <td>-0.865307</td>\n",
       "      <td>1</td>\n",
       "    </tr>\n",
       "    <tr>\n",
       "      <th>4</th>\n",
       "      <td>-0.023376</td>\n",
       "      <td>-0.087595</td>\n",
       "      <td>-0.152924</td>\n",
       "      <td>0.854087</td>\n",
       "      <td>-1.210648</td>\n",
       "      <td>-0.011168</td>\n",
       "      <td>-1.306742</td>\n",
       "      <td>-0.260139</td>\n",
       "      <td>-0.457263</td>\n",
       "      <td>-0.322125</td>\n",
       "      <td>...</td>\n",
       "      <td>8</td>\n",
       "      <td>2</td>\n",
       "      <td>214</td>\n",
       "      <td>31</td>\n",
       "      <td>3</td>\n",
       "      <td>-0.866025</td>\n",
       "      <td>-0.500000</td>\n",
       "      <td>-0.516062</td>\n",
       "      <td>-0.856551</td>\n",
       "      <td>1</td>\n",
       "    </tr>\n",
       "  </tbody>\n",
       "</table>\n",
       "<p>5 rows × 41 columns</p>\n",
       "</div>"
      ],
      "text/plain": [
       "     aspect  burned_areas  curvature       d2m       dem  ignition_points  \\\n",
       "0 -0.023376     -0.087595  -0.152924  0.749859 -1.210648        -0.011168   \n",
       "1 -0.023376     -0.087595  -0.152924  0.806068 -1.210648        -0.011168   \n",
       "2 -0.023376     -0.087595  -0.152924  0.822762 -1.210648        -0.011168   \n",
       "3 -0.023376     -0.087595  -0.152924  0.828469 -1.210648        -0.011168   \n",
       "4 -0.023376     -0.087595  -0.152924  0.854087 -1.210648        -0.011168   \n",
       "\n",
       "       ndvi        rh  roads_distance     slope  ...  month  day  day_of_year  \\\n",
       "0 -1.306742 -0.838179       -0.457263 -0.322125  ...      7   29          210   \n",
       "1 -1.306742 -0.837083       -0.457263 -0.322125  ...      7   30          211   \n",
       "2 -1.306742 -0.395334       -0.457263 -0.322125  ...      7   31          212   \n",
       "3 -1.306742 -0.649035       -0.457263 -0.322125  ...      8    1          213   \n",
       "4 -1.306742 -0.260139       -0.457263 -0.322125  ...      8    2          214   \n",
       "\n",
       "   week_of_year  quarter  month_sin  month_cos  day_of_year_sin  \\\n",
       "0            30        3  -0.500000  -0.866025        -0.455907   \n",
       "1            30        3  -0.500000  -0.866025        -0.471160   \n",
       "2            31        3  -0.500000  -0.866025        -0.486273   \n",
       "3            31        3  -0.866025  -0.500000        -0.501242   \n",
       "4            31        3  -0.866025  -0.500000        -0.516062   \n",
       "\n",
       "   day_of_year_cos  target  \n",
       "0        -0.890028       1  \n",
       "1        -0.882048       1  \n",
       "2        -0.873807       1  \n",
       "3        -0.865307       1  \n",
       "4        -0.856551       1  \n",
       "\n",
       "[5 rows x 41 columns]"
      ]
     },
     "execution_count": 61,
     "metadata": {},
     "output_type": "execute_result"
    }
   ],
   "source": [
    "df.head()"
   ]
  },
  {
   "cell_type": "code",
   "execution_count": 63,
   "metadata": {},
   "outputs": [],
   "source": [
    "df.to_csv(\"preprocessed.csv\",index=False)"
   ]
  }
 ],
 "metadata": {
  "kernelspec": {
   "display_name": "env",
   "language": "python",
   "name": "python3"
  },
  "language_info": {
   "codemirror_mode": {
    "name": "ipython",
    "version": 3
   },
   "file_extension": ".py",
   "mimetype": "text/x-python",
   "name": "python",
   "nbconvert_exporter": "python",
   "pygments_lexer": "ipython3",
   "version": "3.12.9"
  }
 },
 "nbformat": 4,
 "nbformat_minor": 2
}
